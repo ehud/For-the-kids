{
 "cells": [
  {
   "cell_type": "markdown",
   "metadata": {},
   "source": [
    "# Fun puzzles for elementary school kids\n",
    "\n",
    "These are some fun puzzles you can enjoy with your kids. \n",
    "\n",
    "## Arithmetic & For Loops\n",
    "\n",
    "### First puzzle\n",
    "\n",
    "Find all three digit numbers XYX such that $X^3+Y^3+Z^3$ is equal to the original number. "
   ]
  },
  {
   "cell_type": "code",
   "execution_count": 1,
   "metadata": {},
   "outputs": [
    {
     "name": "stdout",
     "output_type": "stream",
     "text": [
      "0 0 0\n",
      "0 0 1\n",
      "1 5 3\n",
      "3 7 0\n",
      "3 7 1\n",
      "4 0 7\n"
     ]
    }
   ],
   "source": [
    "for i in range(0,9):\n",
    "    for j in range (0,9):\n",
    "        for k in range (0,9):\n",
    "            if i*100+j*10+k==i**3+j**3+k**3:\n",
    "                print (i,j,k)"
   ]
  },
  {
   "cell_type": "markdown",
   "metadata": {},
   "source": [
    "Notice that the first two lines are not true solutions. We can fix this problem like so:"
   ]
  },
  {
   "cell_type": "code",
   "execution_count": 2,
   "metadata": {},
   "outputs": [
    {
     "name": "stdout",
     "output_type": "stream",
     "text": [
      "1 5 3\n",
      "3 7 0\n",
      "3 7 1\n",
      "4 0 7\n"
     ]
    }
   ],
   "source": [
    "for i in range(1,9):\n",
    "    for j in range (0,9):\n",
    "        for k in range (0,9):\n",
    "            if i*100+j*10+k==i**3+j**3+k**3:\n",
    "                print (i,j,k)"
   ]
  },
  {
   "cell_type": "markdown",
   "metadata": {},
   "source": [
    "### Second puzzle\n",
    "\n",
    "Find all four digit numbers WXYZ such that $WX^2+YZ^2$ is equal to the original number. "
   ]
  },
  {
   "cell_type": "code",
   "execution_count": 4,
   "metadata": {},
   "outputs": [
    {
     "name": "stdout",
     "output_type": "stream",
     "text": [
      "1 2 3 3\n",
      "8 8 3 3\n"
     ]
    }
   ],
   "source": [
    "for i in range(1,9):\n",
    "    for j in range (0,9):\n",
    "        for k in range (0,9):\n",
    "            for l in range (0,9):\n",
    "                if i*1000+j*100+k*10+l==(i*10+j)**2+(k*10+l)**2:\n",
    "                    print (i,j,k,l)"
   ]
  },
  {
   "cell_type": "markdown",
   "metadata": {},
   "source": [
    "### Add your puzzles here"
   ]
  }
 ],
 "metadata": {
  "kernelspec": {
   "display_name": "Python 3",
   "language": "python",
   "name": "python3"
  },
  "language_info": {
   "codemirror_mode": {
    "name": "ipython",
    "version": 3
   },
   "file_extension": ".py",
   "mimetype": "text/x-python",
   "name": "python",
   "nbconvert_exporter": "python",
   "pygments_lexer": "ipython3",
   "version": "3.6.8"
  }
 },
 "nbformat": 4,
 "nbformat_minor": 2
}
